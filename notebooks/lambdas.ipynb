{
  "metadata" : {
    "config" : {
      "dependencies" : {
        "python" : [
          "functools",
          "itertools"
        ]
      },
      "exclusions" : [
      ],
      "repositories" : [
      ],
      "sparkConfig" : {
        
      },
      "env" : {
        
      }
    },
    "language_info" : {
      "name" : "python"
    }
  },
  "nbformat" : 4,
  "nbformat_minor" : 0,
  "cells" : [
    {
      "cell_type" : "markdown",
      "execution_count" : 0,
      "metadata" : {
        "language" : "text"
      },
      "language" : "text",
      "source" : [
        "# lambdas\n",
        "\n",
        "This is a text cell. Start editing!"
      ],
      "outputs" : [
      ]
    },
    {
      "cell_type" : "code",
      "execution_count" : 1,
      "metadata" : {
        "cell.metadata.exec_info" : {
          "startTs" : 1588794626858,
          "endTs" : 1588794629084
        },
        "language" : "python"
      },
      "language" : "python",
      "source" : [
        "addition = lambda a, b: a + b\n",
        "addition(3, 4)"
      ],
      "outputs" : [
        {
          "execution_count" : 1,
          "data" : {
            "text/plain" : [
              "7"
            ]
          },
          "metadata" : {
            "name" : "Out",
            "type" : "Long"
          },
          "output_type" : "execute_result"
        }
      ]
    },
    {
      "cell_type" : "code",
      "execution_count" : 2,
      "metadata" : {
        "cell.metadata.exec_info" : {
          "startTs" : 1588794779001,
          "endTs" : 1588794779522
        },
        "language" : "python"
      },
      "language" : "python",
      "source" : [
        "items = range(1, 6)\n",
        "multyplyItemByTwo = lambda x: x * 2\n",
        "transformItemsByTwo = map(multyplyItemByTwo, items)\n",
        "\n",
        "list(transformItemsByTwo)"
      ],
      "outputs" : [
        {
          "execution_count" : 2,
          "data" : {
            "text/plain" : [
              "[2, 4, 6, 8, 10]"
            ]
          },
          "metadata" : {
            "name" : "Out",
            "type" : "TypedPythonObject[list]"
          },
          "output_type" : "execute_result"
        }
      ]
    },
    {
      "cell_type" : "code",
      "execution_count" : 3,
      "metadata" : {
        "cell.metadata.exec_info" : {
          "startTs" : 1588795394310,
          "endTs" : 1588795395017
        },
        "language" : "python"
      },
      "language" : "python",
      "source" : [
        "items = range(1, 100) \n",
        "itemsModuleOf = lambda x: (x%2 != 0)\n",
        "filterItems = filter(itemsModuleOf, items)\n",
        "list(filterItems) \n"
      ],
      "outputs" : [
        {
          "execution_count" : 3,
          "data" : {
            "text/plain" : [
              "[1, 3, 5, 7, 9, 11, 13, 15, 17, 19, 21, 23, 25, 27, 29, 31, 33, 35, 37, 39, 41, 43, 45, 47, 49, 51, 53, 55, 57, 59, 61, 63, 65, 67, 69, 71, 73, 75, 77, 79, 81, 83, 85, 87, 89, 91, 93, 95, 97, 99]"
            ]
          },
          "metadata" : {
            "name" : "Out",
            "type" : "TypedPythonObject[list]"
          },
          "output_type" : "execute_result"
        }
      ]
    },
    {
      "cell_type" : "code",
      "execution_count" : 4,
      "metadata" : {
        "cell.metadata.exec_info" : {
          "startTs" : 1588795493310,
          "endTs" : 1588795493656
        },
        "language" : "python"
      },
      "language" : "python",
      "source" : [
        "from functools import reduce\n",
        "\n",
        "items = range(1, 5)\n",
        "sumAll = lambda x, y: x + y\n",
        "reduce(sumAll, items) "
      ],
      "outputs" : [
        {
          "execution_count" : 4,
          "data" : {
            "text/plain" : [
              "10"
            ]
          },
          "metadata" : {
            "name" : "Out",
            "type" : "Long"
          },
          "output_type" : "execute_result"
        }
      ]
    },
    {
      "cell_type" : "code",
      "execution_count" : 5,
      "metadata" : {
        "cell.metadata.exec_info" : {
          "startTs" : 1588795655596,
          "endTs" : 1588795655849
        },
        "language" : "python"
      },
      "language" : "python",
      "source" : [
        "from functools import reduce\n",
        "  \n",
        "func = lambda x, _: x+[x[-1]+x[-2]]\n",
        "fib = lambda n: reduce(func, range(n-2), [0, 1]) \n",
        "  \n",
        "fib(5)"
      ],
      "outputs" : [
        {
          "execution_count" : 5,
          "data" : {
            "text/plain" : [
              "[0, 1, 1, 2, 3]"
            ]
          },
          "metadata" : {
            "name" : "Out",
            "type" : "TypedPythonObject[list]"
          },
          "output_type" : "execute_result"
        }
      ]
    }
  ]
}